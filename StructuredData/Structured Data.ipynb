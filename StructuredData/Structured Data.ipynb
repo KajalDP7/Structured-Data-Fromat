{
 "cells": [
  {
   "cell_type": "markdown",
   "id": "1c59b54e",
   "metadata": {},
   "source": [
    "## Structured Data Format\n"
   ]
  },
  {
   "cell_type": "markdown",
   "id": "c5b1ee08",
   "metadata": {},
   "source": [
    "### Importing Libraries"
   ]
  },
  {
   "cell_type": "code",
   "execution_count": 1,
   "id": "cbe83ba4",
   "metadata": {},
   "outputs": [],
   "source": [
    "import pandas as pd\n",
    "import numpy as np\n",
    "from datetime import datetime, timedelta"
   ]
  },
  {
   "cell_type": "markdown",
   "id": "2ca08dc5",
   "metadata": {},
   "source": [
    "### Loading Dataset"
   ]
  },
  {
   "cell_type": "code",
   "execution_count": 2,
   "id": "14bd2d75",
   "metadata": {},
   "outputs": [],
   "source": [
    "#Read the input CSV file\n",
    "input_file = 'input_file.csv'\n",
    "output_file = 'output_file.csv'\n",
    "employee_df = pd.read_csv(input_file)"
   ]
  },
  {
   "cell_type": "markdown",
   "id": "04cefb50",
   "metadata": {},
   "source": [
    "#### 1. Effective and End Dates"
   ]
  },
  {
   "cell_type": "code",
   "execution_count": 3,
   "id": "943ab8ec",
   "metadata": {},
   "outputs": [],
   "source": [
    "#Sort data by employee and date\n",
    "employee_df['Date of Joining'] = pd.to_datetime(employee_df['Date of Joining'])# Convert JoiningDate to datetime if not already\n",
    "employee_df.sort_values(by = ['Employee Code','Date of Joining'], inplace=True)"
   ]
  },
  {
   "cell_type": "code",
   "execution_count": 4,
   "id": "f57e2e5f",
   "metadata": {},
   "outputs": [],
   "source": [
    "#Generate Effective and End Dates\n",
    "employee_df['End Date'] = employee_df.groupby('Employee Code')['Date of Joining'].shift(-1) - timedelta(days=1)\n",
    "employee_df['End Date'] = employee_df['End Date'].fillna(pd.Timestamp('2100-01-01'))"
   ]
  },
  {
   "cell_type": "markdown",
   "id": "c407bae5",
   "metadata": {},
   "source": [
    "#### 2. Data Transformation:"
   ]
  },
  {
   "cell_type": "code",
   "execution_count": 5,
   "id": "9575fc33",
   "metadata": {},
   "outputs": [],
   "source": [
    "#Transform Data\n",
    "historical_records = []\n",
    "\n",
    "#itrate through each row of dataframe\n",
    "for index, row in employee_df.iterrows():\n",
    "    employee_id = row['Employee Code']\n",
    "    manager_employee_code = row['Manager Employee Code']\n",
    "    joining_date = row['Date of Joining']\n",
    "    exit_date = row['Date of Exit']\n",
    "    \n",
    "    for i in range(1,3):\n",
    "        compensation = row[f'Compensation {i}']\n",
    "        compensation_date = row[f'Compensation {i} date'] \n",
    "\n",
    "                                \n",
    "        review = row[f'Review {i}']\n",
    "        review_date = row[f'Review {i} date']\n",
    "        \n",
    "        engagement_col = f'Engagement {i}'\n",
    "        engagement_date_col = f'Engagement {i} date'\n",
    "        \n",
    "        if engagement_col in row and engagement_date_col in row:\n",
    "            engagement = row[engagement_col]\n",
    "            engagement_date = row[engagement_date_col]\n",
    "        else:\n",
    "            engagement = None\n",
    "            engagement_date = None\n",
    "            \n",
    "    # Append each combination of employee data and dates as a historical record\n",
    "        historical_records.append({\n",
    "            'EmployeeID': employee_id,\n",
    "            'ManagerEmployeeCode': manager_employee_code,\n",
    "            'JoiningDate': joining_date,\n",
    "            'ExitDate': exit_date,\n",
    "            'Compensation': compensation,\n",
    "            'CompensationDate': compensation_date,\n",
    "            'Review': review,\n",
    "            'ReviewDate': review_date,\n",
    "            'Engagement': engagement,  # Corrected typo: changed 'engagement' to 'Engagement'\n",
    "            'EngagementDate': engagement_date\n",
    "        })\n",
    "    \n",
    "    "
   ]
  },
  {
   "cell_type": "markdown",
   "id": "91d666fd",
   "metadata": {},
   "source": [
    "#### 3. Data Copying:"
   ]
  },
  {
   "cell_type": "code",
   "execution_count": 6,
   "id": "37827219",
   "metadata": {},
   "outputs": [],
   "source": [
    "#Data Copying - No action required as DataFrame alredy contains required data"
   ]
  },
  {
   "cell_type": "markdown",
   "id": "1e6bc832",
   "metadata": {},
   "source": [
    "#### 4. Output Format:\n"
   ]
  },
  {
   "cell_type": "code",
   "execution_count": 7,
   "id": "7b04e2cb",
   "metadata": {},
   "outputs": [],
   "source": [
    "#Output Format Write to output csv file\n",
    "historical_df = pd.DataFrame(historical_records)\n",
    "historical_df.to_csv(output_file, index = False)"
   ]
  },
  {
   "cell_type": "markdown",
   "id": "b88757a3",
   "metadata": {},
   "source": [
    "#### 5. Documentation:"
   ]
  },
  {
   "cell_type": "raw",
   "id": "7861af45",
   "metadata": {},
   "source": [
    "#Documentation\n",
    "For End Date and Effective Data imported datetime\n",
    "As said for last record of employee considered far future data (2100-01-01) as End date\n",
    "Transfomed data based on rows present \n",
    "Date columns are expected to be in a consistent format and are converted to datetime objects for sorting and manipulation.\n",
    "No additional data validation or cleaning is performed assuming the input data is clean and valid."
   ]
  },
  {
   "cell_type": "code",
   "execution_count": 8,
   "id": "808922ce",
   "metadata": {},
   "outputs": [
    {
     "name": "stdout",
     "output_type": "stream",
     "text": [
      "Transformation Completed. Historical Employee Data saved to output_file.csv\n"
     ]
    }
   ],
   "source": [
    "print(\"Transformation Completed. Historical Employee Data saved to\",output_file)"
   ]
  },
  {
   "cell_type": "code",
   "execution_count": null,
   "id": "9ade3c6f",
   "metadata": {},
   "outputs": [],
   "source": []
  }
 ],
 "metadata": {
  "kernelspec": {
   "display_name": "Python 3",
   "language": "python",
   "name": "python3"
  },
  "language_info": {
   "codemirror_mode": {
    "name": "ipython",
    "version": 3
   },
   "file_extension": ".py",
   "mimetype": "text/x-python",
   "name": "python",
   "nbconvert_exporter": "python",
   "pygments_lexer": "ipython3",
   "version": "3.8.8"
  }
 },
 "nbformat": 4,
 "nbformat_minor": 5
}
